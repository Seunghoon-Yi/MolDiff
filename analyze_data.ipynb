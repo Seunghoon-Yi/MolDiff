{
 "cells": [
  {
   "cell_type": "code",
   "execution_count": 1,
   "metadata": {},
   "outputs": [
    {
     "name": "stderr",
     "output_type": "stream",
     "text": [
      "/scratch/x2606a03/.conda/envs/diffcsp/lib/python3.10/site-packages/tqdm/auto.py:21: TqdmWarning: IProgress not found. Please update jupyter and ipywidgets. See https://ipywidgets.readthedocs.io/en/stable/user_install.html\n",
      "  from .autonotebook import tqdm as notebook_tqdm\n",
      "/scratch/x2606a03/.conda/envs/diffcsp/lib/python3.10/site-packages/torch_geometric/typing.py:54: UserWarning: An issue occurred while importing 'pyg-lib'. Disabling its usage. Stacktrace: /scratch/x2606a03/.conda/envs/diffcsp/lib/python3.10/site-packages/libpyg.so: undefined symbol: _ZNK3c104impl13OperatorEntry24assertSignatureIsCorrectENS0_12CppSignatureEb\n",
      "  warnings.warn(f\"An issue occurred while importing 'pyg-lib'. \"\n"
     ]
    }
   ],
   "source": [
    "import torch\n",
    "from utils import dataset\n",
    "from utils.dataset import get_dataset\n",
    "from utils.misc import load_config\n",
    "from utils.transforms import FeaturizeMol, Compose\n",
    "from torch_geometric.loader import DataLoader\n",
    "from utils.train import *\n"
   ]
  },
  {
   "cell_type": "code",
   "execution_count": 2,
   "metadata": {},
   "outputs": [],
   "source": [
    "root = './data/geom_drug'\n",
    "path_dict = {\n",
    "    'sdf': 'sdf',\n",
    "    'summary': 'mol_summary.csv',\n",
    "    'processed': 'processed.lmdb'\n",
    "}\n",
    "train_config = load_config('./configs/train/train_MolDiff.yml')\n",
    "drug_dataset = dataset.Drug3DDataset(\n",
    "    root = root,\n",
    "    path_dict = path_dict,\n",
    ")"
   ]
  },
  {
   "cell_type": "code",
   "execution_count": 3,
   "metadata": {},
   "outputs": [
    {
     "name": "stdout",
     "output_type": "stream",
     "text": [
      "Num of samples: ('train', 231523) ('val', 28941) ('test', 28940)\n"
     ]
    }
   ],
   "source": [
    "featurizer = FeaturizeMol(train_config.chem.atomic_numbers, train_config.chem.mol_bond_types,\n",
    "                            use_mask_node=train_config.transform.use_mask_node,\n",
    "                            use_mask_edge=train_config.transform.use_mask_edge\n",
    "                            )\n",
    "transform = Compose([\n",
    "    featurizer,\n",
    "])\n",
    "\n",
    "# Datasets and loaders\n",
    "dataset, subsets = get_dataset(\n",
    "    config = train_config.dataset,\n",
    "    transform = transform,\n",
    ")\n",
    "train_set, val_set = subsets['train'], subsets['val']\n",
    "train_iterator = inf_iterator(DataLoader(\n",
    "        train_set, \n",
    "        batch_size = 2, \n",
    "        shuffle = True,\n",
    "        num_workers = 0,\n",
    "        pin_memory = train_config.train.pin_memory,\n",
    "        follow_batch = featurizer.follow_batch,\n",
    "        exclude_keys = featurizer.exclude_keys,\n",
    "    ))"
   ]
  },
  {
   "cell_type": "code",
   "execution_count": 4,
   "metadata": {},
   "outputs": [
    {
     "name": "stdout",
     "output_type": "stream",
     "text": [
      "Drug3DDataBatch(element=[35], bond_index=[2, 74], i_conf_list=[2], mol_id=[2], num_nodes=35, node_type=[35], node_type_batch=[35], node_type_ptr=[3], node_pos=[35, 3], i_conf=[2], halfedge_index=[2, 345], halfedge_type=[345], halfedge_type_batch=[345], halfedge_type_ptr=[3], batch=[35], ptr=[3])\n"
     ]
    }
   ],
   "source": [
    "sample_batch = next(train_iterator)\n",
    "print(sample_batch)"
   ]
  },
  {
   "cell_type": "code",
   "execution_count": 5,
   "metadata": {},
   "outputs": [
    {
     "name": "stdout",
     "output_type": "stream",
     "text": [
      "halfedge_type tensor([1, 0, 0, 0, 0, 0, 0, 0, 0, 4, 0, 0, 0, 0, 0, 4, 0, 4, 0, 0, 0, 0, 0, 0,\n",
      "        4, 0, 0, 0, 0, 1, 1, 0, 0, 4, 0, 2, 1, 0, 0, 0, 0, 0, 0, 0, 0, 1, 0, 0,\n",
      "        0, 0, 0, 0, 0, 0, 0, 0, 0, 0, 0, 0, 0, 0, 0, 0, 0, 0, 0, 0, 0, 1, 0, 0,\n",
      "        0, 0, 0, 0, 0, 0, 0, 0, 0, 0, 0, 0, 0, 0, 0, 0, 0, 0, 0, 0, 4, 0, 0, 0,\n",
      "        4, 0, 0, 0, 0, 0, 0, 0, 0, 0, 0, 0, 0, 0, 0, 0, 0, 0, 4, 0, 0, 0, 0, 0,\n",
      "        0, 0, 0, 0, 0, 0, 0, 0, 0, 0, 0, 0, 0, 0, 0, 4, 0, 0, 0, 0, 0, 0, 0, 0,\n",
      "        4, 0, 0, 0, 0, 0, 0, 0, 0, 0, 0, 4, 0, 0, 0, 4, 0, 0, 0, 0, 0, 0, 0, 0,\n",
      "        0, 0, 0, 0, 0, 0, 4, 0, 0, 0, 0, 0, 0, 0, 0, 0, 0, 0, 0, 0, 0, 0, 0, 0,\n",
      "        1, 0, 0, 0, 0, 0, 0, 0, 0, 0, 0, 0, 0, 0, 0, 0, 0, 1, 0, 0, 0, 0, 0, 0,\n",
      "        0, 0, 0, 0, 0, 0, 0, 0, 0, 0, 0, 0, 0, 0, 0, 0, 0, 0, 0, 0, 0, 0, 0, 0,\n",
      "        2, 4, 0, 0, 0, 0, 0, 0, 0, 0, 0, 0, 0, 0, 0, 0, 0, 0, 0, 0, 0, 0, 0, 0,\n",
      "        0, 0, 0, 4, 0, 0, 0, 0, 0, 0, 0, 0, 0, 0, 0, 4, 1, 0, 0, 0, 0, 0, 0, 0,\n",
      "        0, 0, 0, 0, 0, 0, 0, 0, 0, 0, 0, 0, 1, 0, 0, 0, 0, 0, 0, 0, 0, 1, 0, 0,\n",
      "        0, 0, 0, 0, 1, 1, 0, 0, 0, 0, 0, 0, 1, 0, 0, 0, 0, 0, 1, 0, 0, 1, 0, 2,\n",
      "        1, 0, 0, 0, 0, 0, 0, 0, 1])\n",
      "node_type tensor([0, 0, 1, 0, 0, 0, 2, 2, 5, 0, 0, 2, 0, 0, 0, 0, 0, 0, 2, 0, 0, 2, 1, 0,\n",
      "        1, 0, 1, 0, 0, 1, 0, 2, 0, 0, 0])\n",
      "batch tensor([0, 0, 0, 0, 0, 0, 0, 0, 0, 0, 1, 1, 1, 1, 1, 1, 1, 1, 1, 1, 1, 1, 1, 1,\n",
      "        1, 1, 1, 1, 1, 1, 1, 1, 1, 1, 1])\n",
      "halfedge_index tensor([[ 0,  0,  0,  0,  0,  0,  0,  0,  0,  1,  1,  1,  1,  1,  1,  1,  1,  2,\n",
      "          2,  2,  2,  2,  2,  2,  3,  3,  3,  3,  3,  3,  4,  4,  4,  4,  4,  5,\n",
      "          5,  5,  5,  6,  6,  6,  7,  7,  8, 10, 10, 10, 10, 10, 10, 10, 10, 10,\n",
      "         10, 10, 10, 10, 10, 10, 10, 10, 10, 10, 10, 10, 10, 10, 10, 11, 11, 11,\n",
      "         11, 11, 11, 11, 11, 11, 11, 11, 11, 11, 11, 11, 11, 11, 11, 11, 11, 11,\n",
      "         11, 11, 12, 12, 12, 12, 12, 12, 12, 12, 12, 12, 12, 12, 12, 12, 12, 12,\n",
      "         12, 12, 12, 12, 12, 12, 13, 13, 13, 13, 13, 13, 13, 13, 13, 13, 13, 13,\n",
      "         13, 13, 13, 13, 13, 13, 13, 13, 13, 14, 14, 14, 14, 14, 14, 14, 14, 14,\n",
      "         14, 14, 14, 14, 14, 14, 14, 14, 14, 14, 14, 15, 15, 15, 15, 15, 15, 15,\n",
      "         15, 15, 15, 15, 15, 15, 15, 15, 15, 15, 15, 15, 16, 16, 16, 16, 16, 16,\n",
      "         16, 16, 16, 16, 16, 16, 16, 16, 16, 16, 16, 16, 17, 17, 17, 17, 17, 17,\n",
      "         17, 17, 17, 17, 17, 17, 17, 17, 17, 17, 17, 18, 18, 18, 18, 18, 18, 18,\n",
      "         18, 18, 18, 18, 18, 18, 18, 18, 18, 19, 19, 19, 19, 19, 19, 19, 19, 19,\n",
      "         19, 19, 19, 19, 19, 19, 20, 20, 20, 20, 20, 20, 20, 20, 20, 20, 20, 20,\n",
      "         20, 20, 21, 21, 21, 21, 21, 21, 21, 21, 21, 21, 21, 21, 21, 22, 22, 22,\n",
      "         22, 22, 22, 22, 22, 22, 22, 22, 22, 23, 23, 23, 23, 23, 23, 23, 23, 23,\n",
      "         23, 23, 24, 24, 24, 24, 24, 24, 24, 24, 24, 24, 25, 25, 25, 25, 25, 25,\n",
      "         25, 25, 25, 26, 26, 26, 26, 26, 26, 26, 26, 27, 27, 27, 27, 27, 27, 27,\n",
      "         28, 28, 28, 28, 28, 28, 29, 29, 29, 29, 29, 30, 30, 30, 30, 31, 31, 31,\n",
      "         32, 32, 33],\n",
      "        [ 1,  2,  3,  4,  5,  6,  7,  8,  9,  2,  3,  4,  5,  6,  7,  8,  9,  3,\n",
      "          4,  5,  6,  7,  8,  9,  4,  5,  6,  7,  8,  9,  5,  6,  7,  8,  9,  6,\n",
      "          7,  8,  9,  7,  8,  9,  8,  9,  9, 11, 12, 13, 14, 15, 16, 17, 18, 19,\n",
      "         20, 21, 22, 23, 24, 25, 26, 27, 28, 29, 30, 31, 32, 33, 34, 12, 13, 14,\n",
      "         15, 16, 17, 18, 19, 20, 21, 22, 23, 24, 25, 26, 27, 28, 29, 30, 31, 32,\n",
      "         33, 34, 13, 14, 15, 16, 17, 18, 19, 20, 21, 22, 23, 24, 25, 26, 27, 28,\n",
      "         29, 30, 31, 32, 33, 34, 14, 15, 16, 17, 18, 19, 20, 21, 22, 23, 24, 25,\n",
      "         26, 27, 28, 29, 30, 31, 32, 33, 34, 15, 16, 17, 18, 19, 20, 21, 22, 23,\n",
      "         24, 25, 26, 27, 28, 29, 30, 31, 32, 33, 34, 16, 17, 18, 19, 20, 21, 22,\n",
      "         23, 24, 25, 26, 27, 28, 29, 30, 31, 32, 33, 34, 17, 18, 19, 20, 21, 22,\n",
      "         23, 24, 25, 26, 27, 28, 29, 30, 31, 32, 33, 34, 18, 19, 20, 21, 22, 23,\n",
      "         24, 25, 26, 27, 28, 29, 30, 31, 32, 33, 34, 19, 20, 21, 22, 23, 24, 25,\n",
      "         26, 27, 28, 29, 30, 31, 32, 33, 34, 20, 21, 22, 23, 24, 25, 26, 27, 28,\n",
      "         29, 30, 31, 32, 33, 34, 21, 22, 23, 24, 25, 26, 27, 28, 29, 30, 31, 32,\n",
      "         33, 34, 22, 23, 24, 25, 26, 27, 28, 29, 30, 31, 32, 33, 34, 23, 24, 25,\n",
      "         26, 27, 28, 29, 30, 31, 32, 33, 34, 24, 25, 26, 27, 28, 29, 30, 31, 32,\n",
      "         33, 34, 25, 26, 27, 28, 29, 30, 31, 32, 33, 34, 26, 27, 28, 29, 30, 31,\n",
      "         32, 33, 34, 27, 28, 29, 30, 31, 32, 33, 34, 28, 29, 30, 31, 32, 33, 34,\n",
      "         29, 30, 31, 32, 33, 34, 30, 31, 32, 33, 34, 31, 32, 33, 34, 32, 33, 34,\n",
      "         33, 34, 34]])\n",
      "ptr tensor([ 0, 10, 35])\n",
      "num_nodes 35\n",
      "node_type_batch tensor([0, 0, 0, 0, 0, 0, 0, 0, 0, 0, 1, 1, 1, 1, 1, 1, 1, 1, 1, 1, 1, 1, 1, 1,\n",
      "        1, 1, 1, 1, 1, 1, 1, 1, 1, 1, 1])\n",
      "element tensor([ 6,  6,  7,  6,  6,  6,  8,  8, 16,  6,  6,  8,  6,  6,  6,  6,  6,  6,\n",
      "         8,  6,  6,  8,  7,  6,  7,  6,  7,  6,  6,  7,  6,  8,  6,  6,  6])\n",
      "i_conf_list [[0, 1, 2, 3, 4, 5], [0, 1, 2, 3, 4, 5, 6, 7, 8, 9, 10, 11, 12, 13, 14, 15, 16, 17, 18, 19, 20, 21, 22, 23, 24, 25, 26, 27, 28, 29]]\n",
      "halfedge_type_ptr tensor([  0,  45, 345])\n",
      "bond_index tensor([[ 0,  1,  1,  1,  2,  2,  3,  3,  3,  4,  4,  4,  5,  5,  5,  6,  7,  8,\n",
      "          8,  9, 10, 11, 11, 12, 12, 12, 13, 13, 14, 14, 14, 15, 15, 15, 16, 16,\n",
      "         17, 17, 17, 18, 18, 19, 20, 20, 20, 21, 22, 22, 23, 23, 23, 24, 24, 25,\n",
      "         25, 26, 26, 26, 27, 27, 28, 28, 29, 29, 29, 30, 30, 30, 31, 32, 33, 33,\n",
      "         34, 34],\n",
      "        [ 1,  0,  2,  8,  1,  3,  2,  4,  9,  3,  5,  8,  4,  6,  7,  5,  5,  1,\n",
      "          4,  3, 11, 10, 12, 11, 13, 17, 12, 14, 13, 15, 24, 14, 16, 20, 15, 17,\n",
      "         12, 16, 18, 17, 19, 18, 15, 21, 22, 20, 20, 23, 22, 24, 25, 14, 23, 23,\n",
      "         26, 25, 27, 34, 26, 28, 27, 29, 28, 30, 33, 29, 31, 32, 30, 30, 29, 34,\n",
      "         26, 33]])\n",
      "mol_id tensor([ 3296, 53135])\n",
      "halfedge_type_batch tensor([0, 0, 0, 0, 0, 0, 0, 0, 0, 0, 0, 0, 0, 0, 0, 0, 0, 0, 0, 0, 0, 0, 0, 0,\n",
      "        0, 0, 0, 0, 0, 0, 0, 0, 0, 0, 0, 0, 0, 0, 0, 0, 0, 0, 0, 0, 0, 1, 1, 1,\n",
      "        1, 1, 1, 1, 1, 1, 1, 1, 1, 1, 1, 1, 1, 1, 1, 1, 1, 1, 1, 1, 1, 1, 1, 1,\n",
      "        1, 1, 1, 1, 1, 1, 1, 1, 1, 1, 1, 1, 1, 1, 1, 1, 1, 1, 1, 1, 1, 1, 1, 1,\n",
      "        1, 1, 1, 1, 1, 1, 1, 1, 1, 1, 1, 1, 1, 1, 1, 1, 1, 1, 1, 1, 1, 1, 1, 1,\n",
      "        1, 1, 1, 1, 1, 1, 1, 1, 1, 1, 1, 1, 1, 1, 1, 1, 1, 1, 1, 1, 1, 1, 1, 1,\n",
      "        1, 1, 1, 1, 1, 1, 1, 1, 1, 1, 1, 1, 1, 1, 1, 1, 1, 1, 1, 1, 1, 1, 1, 1,\n",
      "        1, 1, 1, 1, 1, 1, 1, 1, 1, 1, 1, 1, 1, 1, 1, 1, 1, 1, 1, 1, 1, 1, 1, 1,\n",
      "        1, 1, 1, 1, 1, 1, 1, 1, 1, 1, 1, 1, 1, 1, 1, 1, 1, 1, 1, 1, 1, 1, 1, 1,\n",
      "        1, 1, 1, 1, 1, 1, 1, 1, 1, 1, 1, 1, 1, 1, 1, 1, 1, 1, 1, 1, 1, 1, 1, 1,\n",
      "        1, 1, 1, 1, 1, 1, 1, 1, 1, 1, 1, 1, 1, 1, 1, 1, 1, 1, 1, 1, 1, 1, 1, 1,\n",
      "        1, 1, 1, 1, 1, 1, 1, 1, 1, 1, 1, 1, 1, 1, 1, 1, 1, 1, 1, 1, 1, 1, 1, 1,\n",
      "        1, 1, 1, 1, 1, 1, 1, 1, 1, 1, 1, 1, 1, 1, 1, 1, 1, 1, 1, 1, 1, 1, 1, 1,\n",
      "        1, 1, 1, 1, 1, 1, 1, 1, 1, 1, 1, 1, 1, 1, 1, 1, 1, 1, 1, 1, 1, 1, 1, 1,\n",
      "        1, 1, 1, 1, 1, 1, 1, 1, 1])\n",
      "node_type_ptr tensor([ 0, 10, 35])\n",
      "i_conf tensor([ 5, 20])\n",
      "node_pos tensor([[-3.4147e+00, -4.9703e-01, -1.1300e-03],\n",
      "        [-1.9676e+00, -1.8353e-01,  2.1700e-03],\n",
      "        [-1.4848e+00,  1.0119e+00,  1.6700e-03],\n",
      "        [-1.3383e-01,  1.0437e+00,  7.0000e-05],\n",
      "        [ 4.5817e-01, -2.0333e-01, -1.3000e-04],\n",
      "        [ 1.8425e+00, -6.4513e-01, -5.3000e-04],\n",
      "        [ 2.1776e+00, -1.8054e+00, -4.1300e-03],\n",
      "        [ 2.7485e+00,  3.5227e-01,  4.1700e-03],\n",
      "        [-7.6233e-01, -1.4426e+00,  9.7000e-04],\n",
      "        [ 5.3667e-01,  2.3693e+00, -3.1300e-03],\n",
      "        [-4.8245e+00, -3.2214e+00,  4.9994e-01],\n",
      "        [-5.1348e+00, -1.9246e+00,  5.0440e-02],\n",
      "        [-4.1501e+00, -9.7725e-01,  3.8940e-02],\n",
      "        [-2.8577e+00, -1.2373e+00,  4.5544e-01],\n",
      "        [-1.8668e+00, -2.5475e-01,  4.3524e-01],\n",
      "        [-2.1939e+00,  1.0316e+00, -2.4960e-02],\n",
      "        [-3.4944e+00,  1.2938e+00, -4.4446e-01],\n",
      "        [-4.4830e+00,  3.2435e-01, -4.2306e-01],\n",
      "        [-5.6932e+00,  7.5515e-01, -8.6466e-01],\n",
      "        [-6.8254e+00, -8.4148e-02, -8.9996e-01],\n",
      "        [-1.1646e+00,  2.0643e+00, -5.9960e-02],\n",
      "        [-1.2886e+00,  3.2072e+00, -4.4386e-01],\n",
      "        [ 6.0508e-02,  1.6079e+00,  4.1684e-01],\n",
      "        [ 2.8771e-01,  3.3675e-01,  8.4714e-01],\n",
      "        [-6.0389e-01, -5.8395e-01,  8.6634e-01],\n",
      "        [ 1.6783e+00,  4.9052e-02,  1.3470e+00],\n",
      "        [ 2.6508e+00,  7.9545e-01,  5.6854e-01],\n",
      "        [ 3.9357e+00,  9.8005e-01,  1.2128e+00],\n",
      "        [ 4.8046e+00, -2.9055e-01,  1.2048e+00],\n",
      "        [ 4.9693e+00, -7.4275e-01, -1.5626e-01],\n",
      "        [ 6.1232e+00, -8.0625e-01, -8.6586e-01],\n",
      "        [ 6.1282e+00, -1.1249e+00, -2.0394e+00],\n",
      "        [ 7.4022e+00, -4.8545e-01, -1.2026e-01],\n",
      "        [ 3.7038e+00, -9.8815e-01, -8.2126e-01],\n",
      "        [ 2.8364e+00,  2.7625e-01, -7.7966e-01]])\n"
     ]
    }
   ],
   "source": [
    "for k in sample_batch.keys():\n",
    "    print(k, sample_batch[k])\n",
    "    if k == 'pos_all_confs':\n",
    "        print(sample_batch[k].shape)\n",
    "# halfedge_type = "
   ]
  },
  {
   "cell_type": "code",
   "execution_count": 17,
   "metadata": {},
   "outputs": [
    {
     "name": "stdout",
     "output_type": "stream",
     "text": [
      "nonzeros 37\n"
     ]
    }
   ],
   "source": [
    "halfedge_type = torch.Tensor([1, 0, 0, 0, 0, 0, 0, 0, 0, 4, 0, 0, 0, 0, 0, 4, 0, 4, 0, 0, 0, 0, 0, 0,\n",
    "        4, 0, 0, 0, 0, 1, 1, 0, 0, 4, 0, 2, 1, 0, 0, 0, 0, 0, 0, 0, 0, 1, 0, 0,\n",
    "        0, 0, 0, 0, 0, 0, 0, 0, 0, 0, 0, 0, 0, 0, 0, 0, 0, 0, 0, 0, 0, 1, 0, 0,\n",
    "        0, 0, 0, 0, 0, 0, 0, 0, 0, 0, 0, 0, 0, 0, 0, 0, 0, 0, 0, 0, 4, 0, 0, 0,\n",
    "        4, 0, 0, 0, 0, 0, 0, 0, 0, 0, 0, 0, 0, 0, 0, 0, 0, 0, 4, 0, 0, 0, 0, 0,\n",
    "        0, 0, 0, 0, 0, 0, 0, 0, 0, 0, 0, 0, 0, 0, 0, 4, 0, 0, 0, 0, 0, 0, 0, 0,\n",
    "        4, 0, 0, 0, 0, 0, 0, 0, 0, 0, 0, 4, 0, 0, 0, 4, 0, 0, 0, 0, 0, 0, 0, 0,\n",
    "        0, 0, 0, 0, 0, 0, 4, 0, 0, 0, 0, 0, 0, 0, 0, 0, 0, 0, 0, 0, 0, 0, 0, 0,\n",
    "        1, 0, 0, 0, 0, 0, 0, 0, 0, 0, 0, 0, 0, 0, 0, 0, 0, 1, 0, 0, 0, 0, 0, 0,\n",
    "        0, 0, 0, 0, 0, 0, 0, 0, 0, 0, 0, 0, 0, 0, 0, 0, 0, 0, 0, 0, 0, 0, 0, 0,\n",
    "        2, 4, 0, 0, 0, 0, 0, 0, 0, 0, 0, 0, 0, 0, 0, 0, 0, 0, 0, 0, 0, 0, 0, 0,\n",
    "        0, 0, 0, 4, 0, 0, 0, 0, 0, 0, 0, 0, 0, 0, 0, 4, 1, 0, 0, 0, 0, 0, 0, 0,\n",
    "        0, 0, 0, 0, 0, 0, 0, 0, 0, 0, 0, 0, 1, 0, 0, 0, 0, 0, 0, 0, 0, 1, 0, 0,\n",
    "        0, 0, 0, 0, 1, 1, 0, 0, 0, 0, 0, 0, 1, 0, 0, 0, 0, 0, 1, 0, 0, 1, 0, 2,\n",
    "        1, 0, 0, 0, 0, 0, 0, 0, 1])\n",
    "print(\"nonzeros\", len(torch.nonzero(halfedge_type)))"
   ]
  },
  {
   "cell_type": "code",
   "execution_count": 15,
   "metadata": {},
   "outputs": [
    {
     "name": "stdout",
     "output_type": "stream",
     "text": [
      "torch.Size([2, 345]) torch.Size([2, 690])\n"
     ]
    }
   ],
   "source": [
    "halfedge_index_test = torch.Tensor([[ 0,  0,  0,  0,  0,  0,  0,  0,  0,  1,  1,  1,  1,  1,  1,  1,  1,  2,\n",
    "          2,  2,  2,  2,  2,  2,  3,  3,  3,  3,  3,  3,  4,  4,  4,  4,  4,  5,\n",
    "          5,  5,  5,  6,  6,  6,  7,  7,  8, 10, 10, 10, 10, 10, 10, 10, 10, 10,\n",
    "         10, 10, 10, 10, 10, 10, 10, 10, 10, 10, 10, 10, 10, 10, 10, 11, 11, 11,\n",
    "         11, 11, 11, 11, 11, 11, 11, 11, 11, 11, 11, 11, 11, 11, 11, 11, 11, 11,\n",
    "         11, 11, 12, 12, 12, 12, 12, 12, 12, 12, 12, 12, 12, 12, 12, 12, 12, 12,\n",
    "         12, 12, 12, 12, 12, 12, 13, 13, 13, 13, 13, 13, 13, 13, 13, 13, 13, 13,\n",
    "         13, 13, 13, 13, 13, 13, 13, 13, 13, 14, 14, 14, 14, 14, 14, 14, 14, 14,\n",
    "         14, 14, 14, 14, 14, 14, 14, 14, 14, 14, 14, 15, 15, 15, 15, 15, 15, 15,\n",
    "         15, 15, 15, 15, 15, 15, 15, 15, 15, 15, 15, 15, 16, 16, 16, 16, 16, 16,\n",
    "         16, 16, 16, 16, 16, 16, 16, 16, 16, 16, 16, 16, 17, 17, 17, 17, 17, 17,\n",
    "         17, 17, 17, 17, 17, 17, 17, 17, 17, 17, 17, 18, 18, 18, 18, 18, 18, 18,\n",
    "         18, 18, 18, 18, 18, 18, 18, 18, 18, 19, 19, 19, 19, 19, 19, 19, 19, 19,\n",
    "         19, 19, 19, 19, 19, 19, 20, 20, 20, 20, 20, 20, 20, 20, 20, 20, 20, 20,\n",
    "         20, 20, 21, 21, 21, 21, 21, 21, 21, 21, 21, 21, 21, 21, 21, 22, 22, 22,\n",
    "         22, 22, 22, 22, 22, 22, 22, 22, 22, 23, 23, 23, 23, 23, 23, 23, 23, 23,\n",
    "         23, 23, 24, 24, 24, 24, 24, 24, 24, 24, 24, 24, 25, 25, 25, 25, 25, 25,\n",
    "         25, 25, 25, 26, 26, 26, 26, 26, 26, 26, 26, 27, 27, 27, 27, 27, 27, 27,\n",
    "         28, 28, 28, 28, 28, 28, 29, 29, 29, 29, 29, 30, 30, 30, 30, 31, 31, 31,\n",
    "         32, 32, 33],\n",
    "        [ 1,  2,  3,  4,  5,  6,  7,  8,  9,  2,  3,  4,  5,  6,  7,  8,  9,  3,\n",
    "          4,  5,  6,  7,  8,  9,  4,  5,  6,  7,  8,  9,  5,  6,  7,  8,  9,  6,\n",
    "          7,  8,  9,  7,  8,  9,  8,  9,  9, 11, 12, 13, 14, 15, 16, 17, 18, 19,\n",
    "         20, 21, 22, 23, 24, 25, 26, 27, 28, 29, 30, 31, 32, 33, 34, 12, 13, 14,\n",
    "         15, 16, 17, 18, 19, 20, 21, 22, 23, 24, 25, 26, 27, 28, 29, 30, 31, 32,\n",
    "         33, 34, 13, 14, 15, 16, 17, 18, 19, 20, 21, 22, 23, 24, 25, 26, 27, 28,\n",
    "         29, 30, 31, 32, 33, 34, 14, 15, 16, 17, 18, 19, 20, 21, 22, 23, 24, 25,\n",
    "         26, 27, 28, 29, 30, 31, 32, 33, 34, 15, 16, 17, 18, 19, 20, 21, 22, 23,\n",
    "         24, 25, 26, 27, 28, 29, 30, 31, 32, 33, 34, 16, 17, 18, 19, 20, 21, 22,\n",
    "         23, 24, 25, 26, 27, 28, 29, 30, 31, 32, 33, 34, 17, 18, 19, 20, 21, 22,\n",
    "         23, 24, 25, 26, 27, 28, 29, 30, 31, 32, 33, 34, 18, 19, 20, 21, 22, 23,\n",
    "         24, 25, 26, 27, 28, 29, 30, 31, 32, 33, 34, 19, 20, 21, 22, 23, 24, 25,\n",
    "         26, 27, 28, 29, 30, 31, 32, 33, 34, 20, 21, 22, 23, 24, 25, 26, 27, 28,\n",
    "         29, 30, 31, 32, 33, 34, 21, 22, 23, 24, 25, 26, 27, 28, 29, 30, 31, 32,\n",
    "         33, 34, 22, 23, 24, 25, 26, 27, 28, 29, 30, 31, 32, 33, 34, 23, 24, 25,\n",
    "         26, 27, 28, 29, 30, 31, 32, 33, 34, 24, 25, 26, 27, 28, 29, 30, 31, 32,\n",
    "         33, 34, 25, 26, 27, 28, 29, 30, 31, 32, 33, 34, 26, 27, 28, 29, 30, 31,\n",
    "         32, 33, 34, 27, 28, 29, 30, 31, 32, 33, 34, 28, 29, 30, 31, 32, 33, 34,\n",
    "         29, 30, 31, 32, 33, 34, 30, 31, 32, 33, 34, 31, 32, 33, 34, 32, 33, 34,\n",
    "         33, 34, 34]])\n",
    "symmetrized_halfedge_index = torch.cat([halfedge_index_test, halfedge_index_test.flip(0)], dim=1)\n",
    "print(halfedge_index_test.shape, symmetrized_halfedge_index.shape)"
   ]
  },
  {
   "cell_type": "code",
   "execution_count": 6,
   "metadata": {},
   "outputs": [],
   "source": [
    "import torch_geometric as pyg\n",
    "from torch_geometric.datasets import QM9\n",
    "from torch_geometric.loader import DataLoader"
   ]
  },
  {
   "cell_type": "code",
   "execution_count": 7,
   "metadata": {},
   "outputs": [],
   "source": [
    "qm9_dataset = QM9(root='/scratch/x2606a03/research/data/QM9/')\n",
    "qm9_dataloader = inf_iterator(DataLoader(qm9_dataset, batch_size=2, shuffle=True))"
   ]
  },
  {
   "cell_type": "code",
   "execution_count": 34,
   "metadata": {},
   "outputs": [
    {
     "name": "stdout",
     "output_type": "stream",
     "text": [
      "DataBatch(x=[36, 11], edge_index=[2, 78], edge_attr=[78, 4], y=[2, 19], pos=[36, 3], idx=[2], name=[2], z=[36], batch=[36], ptr=[3])\n",
      "node type :  torch.Size([36]) tensor([7, 6, 7, 6, 6, 6, 8, 6, 6, 1, 1, 1, 1, 1, 1, 6, 6, 6, 6, 6, 6, 6, 8, 6,\n",
      "        1, 1, 1, 1, 1, 1, 1, 1, 1, 1, 1, 1])\n",
      "bond attr :  torch.Size([78]) tensor([1, 1, 1, 1, 1, 1, 1, 1, 1, 1, 1, 1, 1, 1, 1, 1, 1, 1, 1, 1, 1, 1, 1, 3,\n",
      "        3, 1, 1, 1, 1, 1, 1, 1, 1, 1, 1, 1, 1, 1, 1, 1, 1, 1, 1, 1, 1, 1, 1, 1,\n",
      "        1, 1, 1, 1, 1, 1, 1, 1, 1, 1, 1, 1, 1, 1, 1, 1, 1, 1, 1, 1, 1, 1, 1, 1,\n",
      "        1, 1, 1, 1, 1, 1])\n",
      "bond index :  torch.Size([2, 78]) tensor([[ 0,  0,  0,  1,  1,  1,  2,  2,  3,  3,  3,  3,  4,  4,  4,  4,  5,  5,\n",
      "          5,  5,  6,  6,  7,  7,  8,  8,  9, 10, 11, 12, 13, 14, 15, 15, 15, 15,\n",
      "         16, 16, 16, 16, 17, 17, 17, 17, 18, 18, 18, 18, 19, 19, 19, 19, 20, 20,\n",
      "         20, 20, 21, 21, 21, 21, 22, 22, 23, 23, 23, 23, 24, 25, 26, 27, 28, 29,\n",
      "         30, 31, 32, 33, 34, 35],\n",
      "        [ 1,  9, 10,  0,  2,  6,  1,  3,  2,  4,  5, 11,  3,  5, 12, 13,  3,  4,\n",
      "          6,  7,  1,  5,  5,  8,  7, 14,  0,  0,  3,  4,  4,  8, 16, 24, 25, 26,\n",
      "         15, 17, 18, 23, 16, 18, 27, 28, 16, 17, 19, 29, 18, 20, 23, 30, 19, 21,\n",
      "         31, 32, 20, 22, 33, 34, 21, 23, 16, 19, 22, 35, 15, 15, 15, 17, 17, 18,\n",
      "         19, 20, 20, 21, 21, 23]])\n",
      "idx:  tensor([74824, 70016])\n",
      "ptr:  tensor([ 0, 15, 36])\n",
      "tensor([7, 6, 7, 6, 6, 6, 8, 6, 6, 1, 1, 1, 1, 1, 1])\n"
     ]
    }
   ],
   "source": [
    "qm9_data = next(qm9_dataloader)\n",
    "print(qm9_data)\n",
    "#print(qm9_data.edge_attr)\n",
    "print(\"node type : \", qm9_data.z.shape, qm9_data.z)\n",
    "node_type = qm9_data.z\n",
    "node_pos = qm9_data.pos\n",
    "batch_node = qm9_data.batch\n",
    "bond_index = qm9_data.edge_index\n",
    "#print(\"edge_attr : \", qm9_data.edge_attr.shape, qm9_data.edge_attr)\n",
    "bond_attr = qm9_data.edge_attr.nonzero()[:, 1]+1\n",
    "print(\"bond attr : \", bond_attr.shape, bond_attr)\n",
    "ptr = qm9_data.ptr\n",
    "print(\"bond index : \", qm9_data.edge_index.shape, qm9_data.edge_index)\n",
    "print(\"idx: \", qm9_data.idx)\n",
    "print(\"ptr: \", qm9_data.ptr)\n",
    "print(qm9_data.z[qm9_data.ptr[0]:qm9_data.ptr[1]])"
   ]
  },
  {
   "cell_type": "code",
   "execution_count": 36,
   "metadata": {},
   "outputs": [
    {
     "name": "stdout",
     "output_type": "stream",
     "text": [
      "directed_edge_index :  torch.Size([2, 39]) tensor([[ 0,  0,  0,  1,  1,  2,  3,  3,  3,  4,  4,  4,  5,  5,  7,  8, 15, 15,\n",
      "         15, 15, 16, 16, 16, 17, 17, 17, 18, 18, 19, 19, 19, 20, 20, 20, 21, 21,\n",
      "         21, 22, 23],\n",
      "        [ 1,  9, 10,  2,  6,  3,  4,  5, 11,  5, 12, 13,  6,  7,  8, 14, 16, 24,\n",
      "         25, 26, 17, 18, 23, 18, 27, 28, 19, 29, 20, 23, 30, 21, 31, 32, 22, 33,\n",
      "         34, 23, 35]])\n",
      "attr_mat :  torch.Size([36, 36]) tensor([[0., 1., 0.,  ..., 0., 0., 0.],\n",
      "        [1., 0., 1.,  ..., 0., 0., 0.],\n",
      "        [0., 1., 0.,  ..., 0., 0., 0.],\n",
      "        ...,\n",
      "        [0., 0., 0.,  ..., 0., 0., 0.],\n",
      "        [0., 0., 0.,  ..., 0., 0., 0.],\n",
      "        [0., 0., 0.,  ..., 0., 0., 0.]])\n"
     ]
    },
    {
     "data": {
      "image/png": "[encoded data removed]",
      "text/plain": [
       "<Figure size 640x480 with 1 Axes>"
      ]
     },
     "metadata": {},
     "output_type": "display_data"
    }
   ],
   "source": [
    "%matplotlib inline\n",
    "import numpy as np\n",
    "import matplotlib.pyplot as plt\n",
    "\n",
    "n_nodes = ptr[-1]\n",
    "adj_mat = torch.zeros(n_nodes, n_nodes)\n",
    "adj_mat[bond_index[0], bond_index[1]] = 1.\n",
    "directed_adj_mat = torch.triu(adj_mat, diagonal=1)\n",
    "directed_edge_index = directed_adj_mat.nonzero().t() # upper triangular edge index\n",
    "\n",
    "# map edge_attr \n",
    "edge_attr_map = {torch.tensor([1, 0, 0, 0]): 1,\n",
    "                torch.tensor([0, 1, 0, 0]): 2,\n",
    "                torch.tensor([0, 0, 1, 0]): 3,\n",
    "                torch.tensor([0, 0, 0, 1]): 4}\n",
    "\n",
    "attr_mat = torch.zeros(n_nodes, n_nodes)\n",
    "for i, (row, col) in enumerate(zip(bond_index[0], bond_index[1])):\n",
    "    attr_mat[row, col] = bond_attr[i]\n",
    "\n",
    "print(\"directed_edge_index : \", directed_edge_index.shape, directed_edge_index)\n",
    "print(\"attr_mat : \", attr_mat.shape, attr_mat)\n",
    "test_arr = directed_adj_mat.numpy()\n",
    "#print(bond_index)\n",
    "plt.imshow(test_arr)\n",
    "plt.show()"
   ]
  },
  {
   "cell_type": "code",
   "execution_count": null,
   "metadata": {},
   "outputs": [],
   "source": [
    "upper_diagonal = torch.triu(test_tensor, diagonal=1)\n"
   ]
  }
 ],
 "metadata": {
  "kernelspec": {
   "display_name": "Python 3",
   "language": "python",
   "name": "python3"
  },
  "language_info": {
   "codemirror_mode": {
    "name": "ipython",
    "version": 3
   },
   "file_extension": ".py",
   "mimetype": "text/x-python",
   "name": "python",
   "nbconvert_exporter": "python",
   "pygments_lexer": "ipython3",
   "version": "3.10.0"
  }
 },
 "nbformat": 4,
 "nbformat_minor": 2
}
