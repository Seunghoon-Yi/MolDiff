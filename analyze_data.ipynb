{
 "cells": [
  {
   "cell_type": "code",
   "execution_count": 1,
   "metadata": {},
   "outputs": [
    {
     "name": "stderr",
     "output_type": "stream",
     "text": [
      "/scratch/x2606a03/.conda/envs/diffcsp/lib/python3.10/site-packages/tqdm/auto.py:21: TqdmWarning: IProgress not found. Please update jupyter and ipywidgets. See https://ipywidgets.readthedocs.io/en/stable/user_install.html\n",
      "  from .autonotebook import tqdm as notebook_tqdm\n",
      "/scratch/x2606a03/.conda/envs/diffcsp/lib/python3.10/site-packages/torch_geometric/typing.py:54: UserWarning: An issue occurred while importing 'pyg-lib'. Disabling its usage. Stacktrace: /scratch/x2606a03/.conda/envs/diffcsp/lib/python3.10/site-packages/libpyg.so: undefined symbol: _ZNK3c104impl13OperatorEntry24assertSignatureIsCorrectENS0_12CppSignatureEb\n",
      "  warnings.warn(f\"An issue occurred while importing 'pyg-lib'. \"\n"
     ]
    }
   ],
   "source": [
    "from utils import dataset\n",
    "from utils.dataset import get_dataset\n",
    "from utils.misc import load_config\n",
    "from utils.transforms import FeaturizeMol, Compose"
   ]
  },
  {
   "cell_type": "code",
   "execution_count": 2,
   "metadata": {},
   "outputs": [],
   "source": [
    "root = './data/geom_drug'\n",
    "path_dict = {\n",
    "    'sdf': 'sdf',\n",
    "    'summary': 'mol_summary.csv',\n",
    "    'processed': 'processed.lmdb'\n",
    "}\n",
    "train_config = load_config('./configs/train/train_MolDiff.yml')\n",
    "drug_dataset = dataset.Drug3DDataset(\n",
    "    root = root,\n",
    "    path_dict = path_dict,\n",
    ")"
   ]
  },
  {
   "cell_type": "code",
   "execution_count": 3,
   "metadata": {},
   "outputs": [
    {
     "name": "stdout",
     "output_type": "stream",
     "text": [
      "Num of samples: ('test', 28940) ('train', 231523) ('val', 28941)\n"
     ]
    }
   ],
   "source": [
    "featurizer = FeaturizeMol(train_config.chem.atomic_numbers, train_config.chem.mol_bond_types,\n",
    "                            use_mask_node=train_config.transform.use_mask_node,\n",
    "                            use_mask_edge=train_config.transform.use_mask_edge\n",
    "                            )\n",
    "transform = Compose([\n",
    "    featurizer,\n",
    "])\n",
    "\n",
    "# Datasets and loaders\n",
    "dataset, subsets = get_dataset(\n",
    "    config = train_config.dataset,\n",
    "    transform = transform,\n",
    ")"
   ]
  },
  {
   "cell_type": "code",
   "execution_count": 4,
   "metadata": {},
   "outputs": [
    {
     "name": "stdout",
     "output_type": "stream",
     "text": [
      "Dataset length: 289404\n",
      "i_conf_list\n",
      "bond_index\n",
      "element\n",
      "orig_keys\n",
      "node_pos\n",
      "pos_all_confs\n",
      "num_bonds\n",
      "smiles\n",
      "num_atoms\n",
      "node_type\n",
      "num_confs\n",
      "mol_id\n",
      "i_conf\n",
      "halfedge_type\n",
      "bond_type\n",
      "num_nodes\n",
      "halfedge_index\n"
     ]
    }
   ],
   "source": [
    "print('Dataset length:', len(dataset))\n",
    "nth = 12345\n",
    "for k in dataset[nth].keys():\n",
    "    print(k)#, dataset[nth][k])\n",
    "    # if k == 'pos_all_confs':\n",
    "    #     print(dataset[nth][k].shape)"
   ]
  },
  {
   "cell_type": "code",
   "execution_count": 7,
   "metadata": {},
   "outputs": [],
   "source": [
    "import torch_geometric as pyg\n",
    "from torch_geometric.datasets import QM9"
   ]
  },
  {
   "cell_type": "code",
   "execution_count": 9,
   "metadata": {},
   "outputs": [
    {
     "name": "stderr",
     "output_type": "stream",
     "text": [
      "Downloading https://deepchemdata.s3-us-west-1.amazonaws.com/datasets/molnet_publish/qm9.zip\n",
      "Extracting /scratch/x2606a03/research/data/QM9/raw/qm9.zip\n",
      "Downloading https://ndownloader.figshare.com/files/3195404\n"
     ]
    }
   ],
   "source": [
    "qm9_dataset = QM9(root='/scratch/x2606a03/research/data/QM9/')"
   ]
  },
  {
   "cell_type": "code",
   "execution_count": 10,
   "metadata": {},
   "outputs": [
    {
     "name": "stdout",
     "output_type": "stream",
     "text": [
      "Data(x=[5, 11], edge_index=[2, 8], edge_attr=[8, 4], y=[1, 19], pos=[5, 3], idx=[1], name='gdb_1', z=[5])\n"
     ]
    }
   ],
   "source": [
    "qm9_data = qm9_dataset[0]\n",
    "print(qm9_data)"
   ]
  }
 ],
 "metadata": {
  "kernelspec": {
   "display_name": "diffcsp",
   "language": "python",
   "name": "python3"
  },
  "language_info": {
   "codemirror_mode": {
    "name": "ipython",
    "version": 3
   },
   "file_extension": ".py",
   "mimetype": "text/x-python",
   "name": "python",
   "nbconvert_exporter": "python",
   "pygments_lexer": "ipython3",
   "version": "3.10.0"
  }
 },
 "nbformat": 4,
 "nbformat_minor": 2
}
